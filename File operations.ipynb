{
 "cells": [
  {
   "cell_type": "markdown",
   "metadata": {},
   "source": [
    "# File operations"
   ]
  },
  {
   "cell_type": "code",
   "execution_count": 1,
   "metadata": {},
   "outputs": [],
   "source": [
    "import csv\n",
    "import pickle\n",
    "import copy\n",
    "\n",
    "def load_table_csv(file_name=''):\n",
    "    if file_name == '':\n",
    "        file_name = input('Введите имя файла, из которого вы хотите скопировать таблицу: ')\n",
    "    rows = []\n",
    "    with open(file_name) as file:\n",
    "        reader = csv.reader(file, delimiter=';')\n",
    "        for row in reader:\n",
    "            rows.append(row)\n",
    "    rows[0][0] = rows[0][0].replace('п»ї', '')\n",
    "    return rows\n",
    "\n",
    "def save_table_csv(table, new_file_name=''):\n",
    "    if new_file_name == '':\n",
    "        new_file_name = input('Введите имя файла, в который вы хотите сохранить таблицу: ')\n",
    "    with open(new_file_name, 'w', newline='') as file:\n",
    "        writer = csv.writer(file, delimiter=';')\n",
    "        writer.writerows(table)\n",
    "    return True\n",
    "\n",
    "def load_table_pickle(file_name=''):\n",
    "    if file_name == '':\n",
    "        file_name = input('Введите имя файла, из которого вы хотите скопировать объект: ')\n",
    "    with open(file_name, 'rb') as file:\n",
    "        object = pickle.load(file)\n",
    "    return object\n",
    "\n",
    "def save_table_pickle(object, new_file_name=''):\n",
    "    if new_file_name == '':\n",
    "        new_file_name = input('Введите имя файла, в который вы хотите сохранить объект: ')\n",
    "    with open(new_file_name, 'wb') as file:\n",
    "        pickle.dump(object, file)\n",
    "    return True\n",
    "\n",
    "def filler(tablex):\n",
    "    table = copy.deepcopy(tablex)\n",
    "    max_len = 0\n",
    "    for row in table:\n",
    "        for yach in row:\n",
    "            if len(yach) > max_len:\n",
    "                max_len = len(yach)\n",
    "    for i in range(len(table)):\n",
    "        for j in range(len(table[i])):\n",
    "            pered = 0\n",
    "            szad = 0\n",
    "            if len(table[i][j]) < max_len:\n",
    "                diff = max_len - len(table[i][j])\n",
    "                pered = diff//2\n",
    "                szad = diff - pered\n",
    "            table[i][j] = ' ' * pered + table[i][j] + ' ' * szad + ' '\n",
    "    new_table = []\n",
    "    for row in table:\n",
    "        new_row = ''\n",
    "        for obj in row:\n",
    "            new_row += obj\n",
    "        new_table.append(new_row)\n",
    "    return new_table\n",
    "\n",
    "def save_table_txt(table, new_file_name=''):\n",
    "    new_table = filler(table)\n",
    "    if new_file_name == '':\n",
    "        new_file_name = input('Введите имя файла, в который вы хотите сохранить таблицу: ')\n",
    "    with open(new_file_name, 'w') as file:\n",
    "        for row in new_table:\n",
    "            file.write(row + '\\n')\n",
    "    return True\n",
    "\n",
    "def get_rows_by_number(table, start, stop = ''):\n",
    "    if stop == '':\n",
    "        stop = start\n",
    "    return table[start-1:stop]\n",
    "\n",
    "def get_rows_by_index(table, *values):\n",
    "    new_table = []\n",
    "    for row in table:\n",
    "        if row[0] in values:\n",
    "            new_table.append(row)\n",
    "    return new_table\n",
    "\n",
    "def get_column_types(table, by_number = True):\n",
    "    types = {}\n",
    "    for i in range(len(table[0])):\n",
    "        if by_number:\n",
    "            types[i+1] = type(table[1][i])\n",
    "        else:\n",
    "            types[table[0][i]] = type(table[1][i])\n",
    "    return types\n",
    "\n",
    "def get_values(table, column = 0):\n",
    "    new_column = []\n",
    "    if type(column) == str:\n",
    "        column = table[0].index(column)+1\n",
    "    for row in table:\n",
    "        new_column.append(row[column-1])\n",
    "    return new_column\n",
    "\n",
    "def get_value(table, column = 0):\n",
    "    if type(column) == str:\n",
    "        column = table[0].index(column)+1\n",
    "    return table[1][column-1]\n",
    "\n",
    "def set_values(tablex, values, column = 0):\n",
    "    table = copy.deepcopy(tablex)\n",
    "    if type(column) == str:\n",
    "        column = table[0].index(column)+1\n",
    "    for i in range(1, len(table)):\n",
    "        for j in range(len(table[i])):\n",
    "            if j == column-1:\n",
    "                table[i][j] = values[i-1]\n",
    "    return table\n",
    "\n",
    "def set_value(tablex, value, column = 0):\n",
    "    table = copy.deepcopy(tablex)\n",
    "    if type(column) == str:\n",
    "        column = table[0].index(column)+1\n",
    "    table[1][column-1] = value\n",
    "    return table\n",
    "\n",
    "def print_table(table):\n",
    "    new_table = filler(table)\n",
    "    for row in new_table:\n",
    "        print(row)\n",
    "    return True\n",
    "\n",
    "def merge_tables(table1x, table2x, by_number = True):\n",
    "    table1 = copy.deepcopy(table1x)\n",
    "    table2 = copy.deepcopy(table2x)\n",
    "    merged_table = []\n",
    "    if by_number:\n",
    "        for i in range(len(table1)):\n",
    "            merged_row = []\n",
    "            for j in range(len(table1[i])):\n",
    "                merged_row.append(table1[i][j] + ' ' + table2[i][j])\n",
    "            merged_table.append(merged_row)\n",
    "    else:\n",
    "        merged_row = []\n",
    "        for k in range(len(table1[0])):\n",
    "            merged_row.append(table1[0][k] + ' ' + table2[0][k])\n",
    "        merged_table.append(merged_row)\n",
    "        for i in range(1, len(table1)):\n",
    "            for j in range(1, len(table2)):\n",
    "                merged_row = []\n",
    "                if table1[i][0] == table2[j][0]:\n",
    "                    for k in range(len(table1[i])):\n",
    "                        merged_row.append(table1[i][k] + ' ' + table2[j][k])\n",
    "            merged_table.append(merged_row)\n",
    "    return merged_table"
   ]
  },
  {
   "cell_type": "code",
   "execution_count": 2,
   "metadata": {},
   "outputs": [
    {
     "data": {
      "text/plain": [
       "True"
      ]
     },
     "execution_count": 2,
     "metadata": {},
     "output_type": "execute_result"
    }
   ],
   "source": [
    "table1 = load_table_csv('CSVs.csv')\n",
    "save_table_csv(table1, 'New_CSV.csv')"
   ]
  },
  {
   "cell_type": "code",
   "execution_count": 3,
   "metadata": {},
   "outputs": [
    {
     "data": {
      "text/plain": [
       "True"
      ]
     },
     "execution_count": 3,
     "metadata": {},
     "output_type": "execute_result"
    }
   ],
   "source": [
    "table2 = load_tble_pickle('Pickles.pickle')\n",
    "save_table_pickle(table2, 'New_Pickle.pickle')"
   ]
  },
  {
   "cell_type": "code",
   "execution_count": 4,
   "metadata": {},
   "outputs": [
    {
     "data": {
      "text/plain": [
       "True"
      ]
     },
     "execution_count": 4,
     "metadata": {},
     "output_type": "execute_result"
    }
   ],
   "source": [
    "save_table_txt(table1, 'New_Text.txt')"
   ]
  },
  {
   "cell_type": "code",
   "execution_count": 14,
   "metadata": {},
   "outputs": [
    {
     "name": "stdout",
     "output_type": "stream",
     "text": [
      "Header 1 Header 2 Header 3 Header 4 Header 5 \n",
      "Info 11  Info 12  Info 13  Info 14  Info 15  \n",
      "Info 21  Info 22  Info 23  Info 24  Info 25  \n",
      "Info 31  Info 32  Info 33  Info 34  Info 35  \n",
      "Info 41  Info 42  Info 43  Info 44  Info 45  \n",
      "Info 51  Info 52  Info 53  Info 54  Info 55  \n"
     ]
    },
    {
     "data": {
      "text/plain": [
       "True"
      ]
     },
     "execution_count": 14,
     "metadata": {},
     "output_type": "execute_result"
    }
   ],
   "source": [
    "print_table(table1)"
   ]
  },
  {
   "cell_type": "code",
   "execution_count": 5,
   "metadata": {},
   "outputs": [
    {
     "name": "stdout",
     "output_type": "stream",
     "text": [
      "Info 11 Info 12 Info 13 Info 14 Info 15 \n",
      "Info 21 Info 22 Info 23 Info 24 Info 25 \n",
      "Info 31 Info 32 Info 33 Info 34 Info 35 \n"
     ]
    },
    {
     "data": {
      "text/plain": [
       "True"
      ]
     },
     "execution_count": 5,
     "metadata": {},
     "output_type": "execute_result"
    }
   ],
   "source": [
    "print_table(get_rows_by_number(table1, 2, 4))"
   ]
  },
  {
   "cell_type": "code",
   "execution_count": 6,
   "metadata": {},
   "outputs": [
    {
     "name": "stdout",
     "output_type": "stream",
     "text": [
      "Info 21 Info 22 Info 23 Info 24 Info 25 \n",
      "Info 51 Info 52 Info 53 Info 54 Info 55 \n"
     ]
    },
    {
     "data": {
      "text/plain": [
       "True"
      ]
     },
     "execution_count": 6,
     "metadata": {},
     "output_type": "execute_result"
    }
   ],
   "source": [
    "print_table(get_rows_by_index(table1, 'Info 21', 'Info 51'))"
   ]
  },
  {
   "cell_type": "code",
   "execution_count": 7,
   "metadata": {},
   "outputs": [
    {
     "name": "stdout",
     "output_type": "stream",
     "text": [
      "{1: <class 'str'>, 2: <class 'str'>, 3: <class 'str'>, 4: <class 'str'>, 5: <class 'str'>}\n",
      "{'Header 1': <class 'str'>, 'Header 2': <class 'str'>, 'Header 3': <class 'str'>, 'Header 4': <class 'str'>, 'Header 5': <class 'str'>}\n"
     ]
    }
   ],
   "source": [
    "print(get_column_types(table1))\n",
    "print(get_column_types(table1, False))"
   ]
  },
  {
   "cell_type": "code",
   "execution_count": 8,
   "metadata": {},
   "outputs": [
    {
     "name": "stdout",
     "output_type": "stream",
     "text": [
      "['Header 4', 'Info 14', 'Info 24', 'Info 34', 'Info 44', 'Info 54']\n",
      "['Header 3', 'Info 13', 'Info 23', 'Info 33', 'Info 43', 'Info 53']\n"
     ]
    }
   ],
   "source": [
    "print(get_values(table1, 4))\n",
    "print(get_values(table1, 'Header 3'))"
   ]
  },
  {
   "cell_type": "code",
   "execution_count": 9,
   "metadata": {},
   "outputs": [
    {
     "name": "stdout",
     "output_type": "stream",
     "text": [
      "Info 13\n",
      "Info 12\n"
     ]
    }
   ],
   "source": [
    "print(get_value(table1, 3))\n",
    "print(get_value(table1, 'Header 2'))"
   ]
  },
  {
   "cell_type": "code",
   "execution_count": 10,
   "metadata": {},
   "outputs": [
    {
     "name": "stdout",
     "output_type": "stream",
     "text": [
      " Header 1   Header 2   Header 3   Header 4   Header 5  \n",
      " Info 11    Info 12   Test value  Info 14    Info 15   \n",
      " Info 21    Info 22   Test value  Info 24    Info 25   \n",
      " Info 31    Info 32   Test value  Info 34    Info 35   \n",
      " Info 41    Info 42   Test value  Info 44    Info 45   \n",
      " Info 51    Info 52   Test value  Info 54    Info 55   \n",
      " Header 1   Header 2   Header 3   Header 4   Header 5  \n",
      " Info 11    Info 12    Info 13   Test value  Info 15   \n",
      " Info 21    Info 22    Info 23   Test value  Info 25   \n",
      " Info 31    Info 32    Info 33   Test value  Info 35   \n",
      " Info 41    Info 42    Info 43   Test value  Info 45   \n",
      " Info 51    Info 52    Info 53   Test value  Info 55   \n"
     ]
    },
    {
     "data": {
      "text/plain": [
       "True"
      ]
     },
     "execution_count": 10,
     "metadata": {},
     "output_type": "execute_result"
    }
   ],
   "source": [
    "print_table(set_values(table1, ['Test value', 'Test value', 'Test value', 'Test value', 'Test value'], 3))\n",
    "print_table(set_values(table1, ['Test value', 'Test value', 'Test value', 'Test value', 'Test value'], 'Header 4'))"
   ]
  },
  {
   "cell_type": "code",
   "execution_count": 11,
   "metadata": {},
   "outputs": [
    {
     "name": "stdout",
     "output_type": "stream",
     "text": [
      " Header 1   Header 2   Header 3   Header 4   Header 5  \n",
      " Info 11   Test value  Info 13    Info 14    Info 15   \n",
      " Info 21    Info 22    Info 23    Info 24    Info 25   \n",
      " Info 31    Info 32    Info 33    Info 34    Info 35   \n",
      " Info 41    Info 42    Info 43    Info 44    Info 45   \n",
      " Info 51    Info 52    Info 53    Info 54    Info 55   \n",
      " Header 1   Header 2   Header 3   Header 4   Header 5  \n",
      " Info 11    Info 12    Info 13    Info 14   Test value \n",
      " Info 21    Info 22    Info 23    Info 24    Info 25   \n",
      " Info 31    Info 32    Info 33    Info 34    Info 35   \n",
      " Info 41    Info 42    Info 43    Info 44    Info 45   \n",
      " Info 51    Info 52    Info 53    Info 54    Info 55   \n"
     ]
    },
    {
     "data": {
      "text/plain": [
       "True"
      ]
     },
     "execution_count": 11,
     "metadata": {},
     "output_type": "execute_result"
    }
   ],
   "source": [
    "print_table(set_value(table1, 'Test value', 2))\n",
    "print_table(set_value(table1, 'Test value', 'Header 5'))"
   ]
  },
  {
   "cell_type": "code",
   "execution_count": 12,
   "metadata": {},
   "outputs": [
    {
     "name": "stdout",
     "output_type": "stream",
     "text": [
      "NewH 1  NewH 2  NewH 3  NewH 4  NewH 5  \n",
      "NewI 11 NewI 12 NewI 13 NewI 14 NewI 15 \n",
      "NewI 21 NewI 22 NewI 23 NewI 24 NewI 25 \n",
      "NewI 31 NewI 32 NewI 33 NewI 34 NewI 35 \n",
      "NewI 41 NewI 42 NewI 43 NewI 44 NewI 45 \n",
      "NewI 51 NewI 52 NewI 53 NewI 54 NewI 55 \n"
     ]
    },
    {
     "data": {
      "text/plain": [
       "True"
      ]
     },
     "execution_count": 12,
     "metadata": {},
     "output_type": "execute_result"
    }
   ],
   "source": [
    "print_table(table2)"
   ]
  },
  {
   "cell_type": "code",
   "execution_count": 13,
   "metadata": {},
   "outputs": [
    {
     "name": "stdout",
     "output_type": "stream",
     "text": [
      "Header 1 NewH 1 Header 2 NewH 2 Header 3 NewH 3 Header 4 NewH 4 Header 5 NewH 5 \n",
      "Info 11 NewI 11 Info 12 NewI 12 Info 13 NewI 13 Info 14 NewI 14 Info 15 NewI 15 \n",
      "Info 21 NewI 21 Info 22 NewI 22 Info 23 NewI 23 Info 24 NewI 24 Info 25 NewI 25 \n",
      "Info 31 NewI 31 Info 32 NewI 32 Info 33 NewI 33 Info 34 NewI 34 Info 35 NewI 35 \n",
      "Info 41 NewI 41 Info 42 NewI 42 Info 43 NewI 43 Info 44 NewI 44 Info 45 NewI 45 \n",
      "Info 51 NewI 51 Info 52 NewI 52 Info 53 NewI 53 Info 54 NewI 54 Info 55 NewI 55 \n"
     ]
    },
    {
     "data": {
      "text/plain": [
       "True"
      ]
     },
     "execution_count": 13,
     "metadata": {},
     "output_type": "execute_result"
    }
   ],
   "source": [
    "print_table(merge_tables(table1, table2))"
   ]
  }
 ],
 "metadata": {
  "kernelspec": {
   "display_name": "Python 3",
   "language": "python",
   "name": "python3"
  },
  "language_info": {
   "codemirror_mode": {
    "name": "ipython",
    "version": 3
   },
   "file_extension": ".py",
   "mimetype": "text/x-python",
   "name": "python",
   "nbconvert_exporter": "python",
   "pygments_lexer": "ipython3",
   "version": "3.7.4"
  }
 },
 "nbformat": 4,
 "nbformat_minor": 4
}
